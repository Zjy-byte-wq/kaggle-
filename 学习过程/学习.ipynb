{
 "cells": [
  {
   "cell_type": "markdown",
   "id": "4c7a0e9d",
   "metadata": {},
   "source": [
    "MNIST数据集的t-SNE(t分布随机邻域嵌入)可视化"
   ]
  },
  {
   "cell_type": "code",
   "execution_count": null,
   "id": "cff7e9fa",
   "metadata": {},
   "outputs": [],
   "source": []
  }
 ],
 "metadata": {
  "language_info": {
   "name": "python"
  }
 },
 "nbformat": 4,
 "nbformat_minor": 5
}
